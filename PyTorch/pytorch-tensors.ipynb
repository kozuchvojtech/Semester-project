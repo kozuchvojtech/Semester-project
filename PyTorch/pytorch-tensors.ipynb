{
 "metadata": {
  "language_info": {
   "codemirror_mode": {
    "name": "ipython",
    "version": 3
   },
   "file_extension": ".py",
   "mimetype": "text/x-python",
   "name": "python",
   "nbconvert_exporter": "python",
   "pygments_lexer": "ipython3",
   "version": "3.8.0-final"
  },
  "orig_nbformat": 2,
  "kernelspec": {
   "name": "python3",
   "display_name": "Python 3"
  }
 },
 "nbformat": 4,
 "nbformat_minor": 2,
 "cells": [
  {
   "cell_type": "code",
   "execution_count": 3,
   "metadata": {},
   "outputs": [
    {
     "output_type": "stream",
     "name": "stdout",
     "text": [
      "1.7.0+cpu\n"
     ]
    }
   ],
   "source": [
    "import torch\n",
    "print(torch.__version__)"
   ]
  },
  {
   "cell_type": "code",
   "execution_count": 4,
   "metadata": {},
   "outputs": [
    {
     "output_type": "execute_result",
     "data": {
      "text/plain": [
       "torch.float32"
      ]
     },
     "metadata": {},
     "execution_count": 4
    }
   ],
   "source": [
    "torch.get_default_dtype()"
   ]
  },
  {
   "cell_type": "code",
   "execution_count": 5,
   "metadata": {},
   "outputs": [
    {
     "output_type": "execute_result",
     "data": {
      "text/plain": [
       "tensor([[1., 2., 3.],\n",
       "        [4., 5., 6.]])"
      ]
     },
     "metadata": {},
     "execution_count": 5
    }
   ],
   "source": [
    "tensor_arr = torch.Tensor([[1,2,3],[4,5,6]])\n",
    "tensor_arr"
   ]
  },
  {
   "cell_type": "code",
   "execution_count": 7,
   "metadata": {},
   "outputs": [
    {
     "output_type": "execute_result",
     "data": {
      "text/plain": [
       "True"
      ]
     },
     "metadata": {},
     "execution_count": 7
    }
   ],
   "source": [
    "torch.is_tensor(tensor_arr)"
   ]
  },
  {
   "cell_type": "code",
   "execution_count": 8,
   "metadata": {},
   "outputs": [
    {
     "output_type": "execute_result",
     "data": {
      "text/plain": [
       "6"
      ]
     },
     "metadata": {},
     "execution_count": 8
    }
   ],
   "source": [
    "torch.numel(tensor_arr)"
   ]
  },
  {
   "cell_type": "code",
   "execution_count": 9,
   "metadata": {},
   "outputs": [
    {
     "output_type": "execute_result",
     "data": {
      "text/plain": [
       "tensor([[6.7502e-07, 5.3179e+22],\n",
       "        [1.6537e-04, 1.0141e-11]])"
      ]
     },
     "metadata": {},
     "execution_count": 9
    }
   ],
   "source": [
    "# This tensor is an unitialized one. We only define the shape; values randomly\n",
    "tensor_uninit = torch.Tensor(2,2)\n",
    "tensor_uninit"
   ]
  },
  {
   "cell_type": "code",
   "execution_count": 10,
   "metadata": {},
   "outputs": [
    {
     "output_type": "execute_result",
     "data": {
      "text/plain": [
       "tensor([[0.8224, 0.6285],\n",
       "        [0.8732, 0.3483]])"
      ]
     },
     "metadata": {},
     "execution_count": 10
    }
   ],
   "source": [
    "# This tensor will actually be initialized with some random values.\n",
    "tensor_init = torch.rand(2,2)\n",
    "tensor_init"
   ]
  },
  {
   "cell_type": "code",
   "execution_count": 11,
   "metadata": {},
   "outputs": [],
   "source": [
    "# We can override the default tensors type\n",
    "# If you're creating Tensors on a GPU the tensor types will be specified using different classes\n",
    "tensor_int = torch.tensor([5,3]).type(torch.IntTensor)\n",
    "tensor_int"
   ]
  },
  {
   "cell_type": "code",
   "execution_count": 12,
   "metadata": {},
   "outputs": [
    {
     "output_type": "execute_result",
     "data": {
      "text/plain": [
       "tensor([[10, 10, 10, 10, 10, 10],\n",
       "        [10, 10, 10, 10, 10, 10]])"
      ]
     },
     "metadata": {},
     "execution_count": 12
    }
   ],
   "source": [
    " tensor_fill = torch.full((2,6), fill_value=10)\n",
    " tensor_fill"
   ]
  },
  {
   "cell_type": "code",
   "execution_count": 14,
   "metadata": {},
   "outputs": [
    {
     "output_type": "stream",
     "name": "stdout",
     "text": [
      "tensor([[1, 1, 1, 1],\n        [1, 1, 1, 1]], dtype=torch.int32)\ntensor([[0, 0, 0, 0],\n        [0, 0, 0, 0]], dtype=torch.int32)\n"
     ]
    }
   ],
   "source": [
    "tensor_of_ones = torch.ones([2,4], dtype=torch.int32)\n",
    "tensor_of_zeroes = torch.zeros_like(tensor_of_ones)\n",
    "print(tensor_of_ones)\n",
    "print(tensor_of_zeroes)"
   ]
  },
  {
   "cell_type": "code",
   "execution_count": 15,
   "metadata": {},
   "outputs": [
    {
     "output_type": "execute_result",
     "data": {
      "text/plain": [
       "tensor(indices=tensor([[0, 1, 1],\n",
       "                       [2, 2, 0]]),\n",
       "       values=tensor([3., 4., 5.]),\n",
       "       size=(2, 5), nnz=3, layout=torch.sparse_coo)"
      ]
     },
     "metadata": {},
     "execution_count": 15
    }
   ],
   "source": [
    "i = torch.tensor([[0,1,1],[2,2,0]])\n",
    "v = torch.tensor([3,4,5], dtype=torch.float32)\n",
    "# A sparse tensor in coordinate format with non-zero elements at indices with the given values\n",
    "sparse_tensor = torch.sparse_coo_tensor(i, v, [2,5])\n",
    "sparse_tensor.data"
   ]
  },
  {
   "cell_type": "code",
   "execution_count": 19,
   "metadata": {},
   "outputs": [
    {
     "output_type": "execute_result",
     "data": {
      "text/plain": [
       "tensor([[0.9169, 0.5565, 0.2499],\n",
       "        [0.2461, 0.4867, 0.1228]])"
      ]
     },
     "metadata": {},
     "execution_count": 19
    }
   ],
   "source": [
    "init_tensor = torch.rand(2,3)\n",
    "init_tensor"
   ]
  },
  {
   "cell_type": "code",
   "execution_count": 20,
   "metadata": {},
   "outputs": [
    {
     "output_type": "execute_result",
     "data": {
      "text/plain": [
       "tensor([[10., 10., 10.],\n",
       "        [10., 10., 10.]])"
      ]
     },
     "metadata": {},
     "execution_count": 20
    }
   ],
   "source": [
    "init_tensor.fill_(10)\n",
    "init_tensor"
   ]
  },
  {
   "cell_type": "code",
   "execution_count": 21,
   "metadata": {},
   "outputs": [
    {
     "output_type": "stream",
     "name": "stdout",
     "text": [
      "tensor([[15., 15., 15.],\n        [15., 15., 15.]])\ntensor([[21., 21., 21.],\n        [21., 21., 21.]])\n"
     ]
    }
   ],
   "source": [
    "# In-place vs out-place operations\n",
    "new_tensor = init_tensor.add(5)\n",
    "init_tensor.add_(11)\n",
    "print(new_tensor)\n",
    "print(init_tensor)"
   ]
  },
  {
   "cell_type": "code",
   "execution_count": 22,
   "metadata": {},
   "outputs": [
    {
     "output_type": "execute_result",
     "data": {
      "text/plain": [
       "tensor([ 0.5000,  1.5556,  2.6111,  3.6667,  4.7222,  5.7778,  6.8333,  7.8889,\n",
       "         8.9444, 10.0000])"
      ]
     },
     "metadata": {},
     "execution_count": 22
    }
   ],
   "source": [
    "x = torch.linspace(start=0.5, end=10.0, steps=10)\n",
    "x"
   ]
  },
  {
   "cell_type": "code",
   "execution_count": 23,
   "metadata": {},
   "outputs": [
    {
     "output_type": "execute_result",
     "data": {
      "text/plain": [
       "(tensor([0.5000, 1.5556, 2.6111, 3.6667]),\n",
       " tensor([4.7222, 5.7778, 6.8333, 7.8889]),\n",
       " tensor([ 8.9444, 10.0000]))"
      ]
     },
     "metadata": {},
     "execution_count": 23
    }
   ],
   "source": [
    "tensor_chunk = torch.chunk(x,3,0)\n",
    "tensor_chunk"
   ]
  },
  {
   "cell_type": "code",
   "execution_count": 24,
   "metadata": {},
   "outputs": [
    {
     "output_type": "execute_result",
     "data": {
      "text/plain": [
       "tensor([0.5000, 1.5556, 2.6111, 3.6667, 4.7222, 5.7778, 6.8333, 7.8889, 3.0000,\n",
       "        4.0000, 5.0000])"
      ]
     },
     "metadata": {},
     "execution_count": 24
    }
   ],
   "source": [
    "tensor3 = torch.tensor([3.0,4.0,5.0])\n",
    "torch.cat((tensor_chunk[0], tensor_chunk[1], tensor3), 0)"
   ]
  },
  {
   "cell_type": "code",
   "execution_count": 25,
   "metadata": {},
   "outputs": [
    {
     "output_type": "stream",
     "name": "stdout",
     "text": [
      "tensor([[ 1,  2,  5],\n        [10, 50, 20],\n        [ 0,  3,  4]])\ntensor([ 1,  2,  5, 10, 50, 20,  0,  3,  4])\n"
     ]
    }
   ],
   "source": [
    "random_tensor = torch.tensor([[1,2,5], [10,50,20], [2,3,4]])\n",
    "tensor_view = random_tensor.view(9)\n",
    "# Changing a value in the original tensor results in the change of the viewed tensor as well\n",
    "random_tensor[2,0] = 0\n",
    "\n",
    "print(random_tensor)\n",
    "print(tensor_view)"
   ]
  },
  {
   "cell_type": "code",
   "execution_count": 27,
   "metadata": {},
   "outputs": [
    {
     "output_type": "execute_result",
     "data": {
      "text/plain": [
       "tensor([[3, 3, 5],\n",
       "        [9, 9, 9],\n",
       "        [3, 3, 4]])"
      ]
     },
     "metadata": {},
     "execution_count": 27
    }
   ],
   "source": [
    "tensor_clamp = torch.clamp(random_tensor, min=3, max=9)\n",
    "tensor_clamp"
   ]
  },
  {
   "cell_type": "code",
   "execution_count": null,
   "metadata": {},
   "outputs": [],
   "source": []
  }
 ]
}