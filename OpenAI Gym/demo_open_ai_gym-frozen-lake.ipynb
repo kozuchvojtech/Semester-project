{
 "cells": [
  {
   "cell_type": "code",
   "execution_count": 1,
   "metadata": {},
   "outputs": [],
   "source": [
    "import gym\n",
    "import numpy as np"
   ]
  },
  {
   "cell_type": "code",
   "execution_count": 2,
   "metadata": {},
   "outputs": [],
   "source": [
    "env = gym.make('FrozenLake-v0')"
   ]
  },
  {
   "cell_type": "code",
   "execution_count": 3,
   "metadata": {},
   "outputs": [
    {
     "data": {
      "text/plain": [
       "4"
      ]
     },
     "execution_count": 3,
     "metadata": {},
     "output_type": "execute_result"
    }
   ],
   "source": [
    "env.action_space.n"
   ]
  },
  {
   "cell_type": "code",
   "execution_count": 4,
   "metadata": {},
   "outputs": [
    {
     "data": {
      "text/plain": [
       "Discrete(16)"
      ]
     },
     "execution_count": 4,
     "metadata": {},
     "output_type": "execute_result"
    }
   ],
   "source": [
    "env.observation_space"
   ]
  },
  {
   "cell_type": "code",
   "execution_count": 5,
   "metadata": {},
   "outputs": [],
   "source": [
    "alpha = 0.4"
   ]
  },
  {
   "cell_type": "code",
   "execution_count": 6,
   "metadata": {},
   "outputs": [],
   "source": [
    "gamma = 0.999 #discount factor"
   ]
  },
  {
   "cell_type": "code",
   "execution_count": 7,
   "metadata": {},
   "outputs": [],
   "source": [
    "q_table = dict([(x, [1,1,1,1]) for x in range(16)]) for each possible state 4 actions to be taken"
   ]
  },
  {
   "cell_type": "code",
   "execution_count": 8,
   "metadata": {},
   "outputs": [
    {
     "data": {
      "text/plain": [
       "{0: [1, 1, 1, 1],\n",
       " 1: [1, 1, 1, 1],\n",
       " 2: [1, 1, 1, 1],\n",
       " 3: [1, 1, 1, 1],\n",
       " 4: [1, 1, 1, 1],\n",
       " 5: [1, 1, 1, 1],\n",
       " 6: [1, 1, 1, 1],\n",
       " 7: [1, 1, 1, 1],\n",
       " 8: [1, 1, 1, 1],\n",
       " 9: [1, 1, 1, 1],\n",
       " 10: [1, 1, 1, 1],\n",
       " 11: [1, 1, 1, 1],\n",
       " 12: [1, 1, 1, 1],\n",
       " 13: [1, 1, 1, 1],\n",
       " 14: [1, 1, 1, 1],\n",
       " 15: [1, 1, 1, 1]}"
      ]
     },
     "execution_count": 8,
     "metadata": {},
     "output_type": "execute_result"
    }
   ],
   "source": [
    "q_table"
   ]
  },
  {
   "cell_type": "code",
   "execution_count": 9,
   "metadata": {},
   "outputs": [],
   "source": [
    "def choose_action(observ):\n",
    "    return np.argmax(q_table[observ])"
   ]
  },
  {
   "cell_type": "code",
   "execution_count": 3,
   "metadata": {
    "scrolled": true
   },
   "outputs": [
    {
     "ename": "NameError",
     "evalue": "name 'env' is not defined",
     "output_type": "error",
     "traceback": [
      "\u001b[1;31m---------------------------------------------------------------------------\u001b[0m",
      "\u001b[1;31mNameError\u001b[0m                                 Traceback (most recent call last)",
      "\u001b[1;32m<ipython-input-3-025aa206ce9b>\u001b[0m in \u001b[0;36m<module>\u001b[1;34m\u001b[0m\n\u001b[0;32m      1\u001b[0m \u001b[1;31m#training phase - 10,000 episodes to be run\u001b[0m\u001b[1;33m\u001b[0m\u001b[1;33m\u001b[0m\u001b[1;33m\u001b[0m\u001b[0m\n\u001b[0;32m      2\u001b[0m \u001b[1;32mfor\u001b[0m \u001b[0mi\u001b[0m \u001b[1;32min\u001b[0m \u001b[0mrange\u001b[0m\u001b[1;33m(\u001b[0m\u001b[1;36m10000\u001b[0m\u001b[1;33m)\u001b[0m\u001b[1;33m:\u001b[0m\u001b[1;33m\u001b[0m\u001b[1;33m\u001b[0m\u001b[0m\n\u001b[1;32m----> 3\u001b[1;33m     \u001b[0mobserv\u001b[0m \u001b[1;33m=\u001b[0m \u001b[0menv\u001b[0m\u001b[1;33m.\u001b[0m\u001b[0mreset\u001b[0m\u001b[1;33m(\u001b[0m\u001b[1;33m)\u001b[0m\u001b[1;33m\u001b[0m\u001b[1;33m\u001b[0m\u001b[0m\n\u001b[0m\u001b[0;32m      4\u001b[0m     \u001b[0maction\u001b[0m \u001b[1;33m=\u001b[0m \u001b[0mchoose_action\u001b[0m\u001b[1;33m(\u001b[0m\u001b[0mobserv\u001b[0m\u001b[1;33m)\u001b[0m\u001b[1;33m\u001b[0m\u001b[1;33m\u001b[0m\u001b[0m\n\u001b[0;32m      5\u001b[0m \u001b[1;33m\u001b[0m\u001b[0m\n",
      "\u001b[1;31mNameError\u001b[0m: name 'env' is not defined"
     ]
    }
   ],
   "source": [
    "#training phase - 10,000 episodes to be run\n",
    "for i in range(10000):    \n",
    "    observ = env.reset()    \n",
    "    action = choose_action(observ)\n",
    "    \n",
    "    prev_observ = None\n",
    "    prev_action = None\n",
    "    \n",
    "    t = 0\n",
    "    \n",
    "    #a maximum of 2,500 time steps per episode\n",
    "    for t in range(2500):        \n",
    "        env.render()        \n",
    "        \n",
    "        observ, reward, done, info = env.step(action)        \n",
    "        action = choose_action(observ)\n",
    "        \n",
    "        if not prev_observ is None:            \n",
    "            q_old = q_table[prev_observ][prev_action]\n",
    "            q_new = q_old\n",
    "            \n",
    "            if done:\n",
    "                q_new += alpha*(reward-q_old)\n",
    "            else:\n",
    "                q_new += alpha*(reward+gamma*q_table[observ][action] - q_old)\n",
    "                \n",
    "            #SARSA method -> we calculate previous state-action q-value backwards    \n",
    "            new_table = q_table[prev_observ]\n",
    "            new_table[prev_action] = q_new\n",
    "            \n",
    "            q_table[prev_observ] = new_table\n",
    "        \n",
    "        prev_observ = observ\n",
    "        prev_action = action\n",
    "        \n",
    "        if done:\n",
    "            print('Episode {} finished after {} timesteps with r={}'.format(i, t, reward))\n",
    "            break"
   ]
  },
  {
   "cell_type": "code",
   "execution_count": 16,
   "metadata": {},
   "outputs": [
    {
     "name": "stdout",
     "output_type": "stream",
     "text": [
      "\n",
      "\u001b[41mS\u001b[0mFFF\n",
      "FHFH\n",
      "FFFH\n",
      "HFFG\n",
      "  (Left)\n",
      "\u001b[41mS\u001b[0mFFF\n",
      "FHFH\n",
      "FFFH\n",
      "HFFG\n",
      "  (Left)\n",
      "\u001b[41mS\u001b[0mFFF\n",
      "FHFH\n",
      "FFFH\n",
      "HFFG\n",
      "  (Left)\n",
      "SFFF\n",
      "\u001b[41mF\u001b[0mHFH\n",
      "FFFH\n",
      "HFFG\n",
      "  (Left)\n",
      "SFFF\n",
      "FHFH\n",
      "\u001b[41mF\u001b[0mFFH\n",
      "HFFG\n",
      "  (Up)\n",
      "SFFF\n",
      "FHFH\n",
      "F\u001b[41mF\u001b[0mFH\n",
      "HFFG\n",
      "  (Down)\n",
      "SFFF\n",
      "FHFH\n",
      "FFFH\n",
      "H\u001b[41mF\u001b[0mFG\n",
      "  (Right)\n",
      "SFFF\n",
      "FHFH\n",
      "FFFH\n",
      "HF\u001b[41mF\u001b[0mG\n",
      "  (Down)\n",
      "SFFF\n",
      "FHFH\n",
      "FFFH\n",
      "HF\u001b[41mF\u001b[0mG\n",
      "  (Down)\n",
      "SFFF\n",
      "FHFH\n",
      "FFFH\n",
      "HF\u001b[41mF\u001b[0mG\n",
      "  (Down)\n",
      "SFFF\n",
      "FHFH\n",
      "FFFH\n",
      "HF\u001b[41mF\u001b[0mG\n",
      "Episode finished after 10 timesteps with r=1.0\n",
      "Final observation: 15\n",
      "Final action: 0\n"
     ]
    }
   ],
   "source": [
    "#testing phase\n",
    "observ = env.reset()    \n",
    "action = choose_action(observ)\n",
    "\n",
    "t = 0\n",
    "\n",
    "#a maximum of 100 time steps per episode\n",
    "for t in range(100):        \n",
    "    env.render()        \n",
    "\n",
    "    observ, reward, done, info = env.step(action)        \n",
    "    action = choose_action(observ)\n",
    "\n",
    "    if done:\n",
    "        print('Episode finished after {} timesteps with r={}'.format(t, reward))\n",
    "        if reward == 1:\n",
    "            print('Final observation: {}'.format(observ))\n",
    "            print('Final action: {}'.format(action))\n",
    "        break"
   ]
  },
  {
   "cell_type": "code",
   "execution_count": null,
   "metadata": {},
   "outputs": [],
   "source": [
    "q_table"
   ]
  }
 ],
 "metadata": {
  "kernelspec": {
   "name": "Python 3.8.0 64-bit",
   "display_name": "Python 3.8.0 64-bit",
   "metadata": {
    "interpreter": {
     "hash": "50cb441b260518baba33778de10d5bcd5ab98b294d9d2a4b3bc4a0dec6688b4b"
    }
   }
  },
  "language_info": {
   "codemirror_mode": {
    "name": "ipython",
    "version": 3
   },
   "file_extension": ".py",
   "mimetype": "text/x-python",
   "name": "python",
   "nbconvert_exporter": "python",
   "pygments_lexer": "ipython3",
   "version": "3.8.0-final"
  }
 },
 "nbformat": 4,
 "nbformat_minor": 2
}